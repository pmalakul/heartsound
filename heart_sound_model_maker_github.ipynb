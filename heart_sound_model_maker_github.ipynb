{
 "cells": [
  {
   "cell_type": "code",
   "execution_count": null,
   "metadata": {
    "execution": {
     "iopub.execute_input": "2021-05-17T21:08:25.021901Z",
     "iopub.status.busy": "2021-05-17T21:08:25.021245Z",
     "iopub.status.idle": "2021-05-17T21:08:36.046493Z",
     "shell.execute_reply": "2021-05-17T21:08:36.045939Z"
    },
    "id": "rwUA9u4oWoCR"
   },
   "outputs": [],
   "source": [
    "import tensorflow as tf\n",
    "import tensorflow_io as tfio\n",
    "import tflite_model_maker as mm\n",
    "from tflite_model_maker import audio_classifier\n",
    "import os\n",
    "\n",
    "import numpy as np\n",
    "import matplotlib.pyplot as plt\n",
    "import seaborn as sns\n",
    "\n",
    "import itertools\n",
    "import glob\n",
    "import random\n",
    "\n",
    "from IPython.display import Audio, Image\n",
    "from scipy.io import wavfile\n",
    "\n",
    "print(f\"TensorFlow Version: {tf.__version__}\")\n",
    "print(f\"Model Maker Version: {mm.__version__}\")"
   ]
  },
  {
   "source": [
    "\n",
    "data_dir = '/home/poom/My/ML/Datasets/heart_sounds_ex'\n",
    "\n",
    "my_class_names = ['normal', 'abnormal']\n",
    "\n",
    "test_files = os.path.abspath(os.path.join(data_dir, '*/*.wav'))\n",
    "\n",
    "def get_random_audio_file():\n",
    "  test_list = glob.glob(test_files)\n",
    "  random_audio_path = random.choice(test_list)\n",
    "  print(random_audio_path)\n",
    "  return random_audio_path\n",
    "\n",
    "\n",
    "def show_sound_data(audio_path):\n",
    "  sample_rate, audio_data = wavfile.read(audio_path, 'rb')\n",
    "\n",
    "  code = audio_path.split('/')[-2]\n",
    "  print(f'Heart sound code: {code}')\n",
    "\n",
    "  plt.plot(audio_data)\n",
    "  display(Audio(audio_data, rate=sample_rate))\n",
    "\n",
    "print('functions and data structures created')"
   ],
   "cell_type": "code",
   "metadata": {
    "execution": {
     "iopub.execute_input": "2021-05-17T21:08:42.798438Z",
     "iopub.status.busy": "2021-05-17T21:08:42.797783Z",
     "iopub.status.idle": "2021-05-17T21:08:42.800260Z",
     "shell.execute_reply": "2021-05-17T21:08:42.800661Z"
    },
    "id": "ayd7UqCfQQFU",
    "tags": []
   },
   "execution_count": null,
   "outputs": []
  },
  {
   "cell_type": "code",
   "execution_count": null,
   "metadata": {
    "execution": {
     "iopub.execute_input": "2021-05-17T21:08:42.804671Z",
     "iopub.status.busy": "2021-05-17T21:08:42.804019Z",
     "iopub.status.idle": "2021-05-17T21:08:44.078876Z",
     "shell.execute_reply": "2021-05-17T21:08:44.079268Z"
    },
    "id": "tEeMZh-VQy97"
   },
   "outputs": [],
   "source": [
    "random_audio = get_random_audio_file()\n",
    "show_sound_data(random_audio)"
   ]
  },
  {
   "cell_type": "code",
   "execution_count": null,
   "metadata": {
    "execution": {
     "iopub.execute_input": "2021-05-17T21:08:44.084292Z",
     "iopub.status.busy": "2021-05-17T21:08:44.083504Z",
     "iopub.status.idle": "2021-05-17T21:08:58.277584Z",
     "shell.execute_reply": "2021-05-17T21:08:58.278009Z"
    },
    "id": "tUcxtfHXY7XS"
   },
   "outputs": [],
   "source": [
    "spec = audio_classifier.YamNetSpec(\n",
    "    keep_yamnet_and_custom_heads=True,\n",
    "    frame_step=3 * audio_classifier.YamNetSpec.EXPECTED_WAVEFORM_LENGTH,\n",
    "    frame_length=6 * audio_classifier.YamNetSpec.EXPECTED_WAVEFORM_LENGTH)"
   ]
  },
  {
   "cell_type": "code",
   "execution_count": null,
   "metadata": {},
   "outputs": [],
   "source": [
    "total_data = audio_classifier.DataLoader.from_folder( spec, os.path.join(data_dir), cache=True, shuffle=True)\n",
    "train_data, temp_data = total_data.split(0.8)\n",
    "val_data, test_data = temp_data.split(0.5)\n",
    "print(\"train_data: {0}, val_data: {1}, test_data: {2}\".format(len(train_data), len(val_data), len(test_data)))\n",
    "print(total_data.index_to_label)"
   ]
  },
  {
   "cell_type": "code",
   "execution_count": null,
   "metadata": {
    "execution": {
     "iopub.execute_input": "2021-05-17T21:08:58.307473Z",
     "iopub.status.busy": "2021-05-17T21:08:58.306795Z",
     "iopub.status.idle": "2021-05-17T21:10:53.618814Z",
     "shell.execute_reply": "2021-05-17T21:10:53.618269Z"
    },
    "id": "8r6Awvl4ZkIv"
   },
   "outputs": [],
   "source": [
    "batch_size = 128\n",
    "epochs = 100\n",
    "\n",
    "print('Training the model')\n",
    "model = audio_classifier.create(\n",
    "    train_data,\n",
    "    spec,\n",
    "    val_data,\n",
    "    batch_size=batch_size,\n",
    "    epochs=epochs)"
   ]
  },
  {
   "cell_type": "code",
   "execution_count": null,
   "metadata": {
    "execution": {
     "iopub.execute_input": "2021-05-17T21:10:53.628129Z",
     "iopub.status.busy": "2021-05-17T21:10:53.627541Z",
     "iopub.status.idle": "2021-05-17T21:11:06.773885Z",
     "shell.execute_reply": "2021-05-17T21:11:06.774272Z"
    },
    "id": "GDoQACMrZnOx"
   },
   "outputs": [],
   "source": [
    "print('Evaluating the model')\n",
    "model.evaluate(test_data)"
   ]
  },
  {
   "cell_type": "code",
   "execution_count": null,
   "metadata": {
    "execution": {
     "iopub.execute_input": "2021-05-17T21:11:06.784678Z",
     "iopub.status.busy": "2021-05-17T21:11:06.784023Z",
     "iopub.status.idle": "2021-05-17T21:11:20.438104Z",
     "shell.execute_reply": "2021-05-17T21:11:20.438483Z"
    },
    "id": "zqB3c0368iH3"
   },
   "outputs": [],
   "source": [
    "def show_confusion_matrix(confusion, test_labels):\n",
    "  \"\"\"Compute confusion matrix and normalize.\"\"\"\n",
    "  confusion_normalized = confusion.astype(\"float\") / confusion.sum(axis=1)\n",
    "  axis_labels = test_labels\n",
    "  ax = sns.heatmap(\n",
    "      confusion_normalized, xticklabels=axis_labels, yticklabels=axis_labels,\n",
    "      cmap='Blues', annot=True, fmt='.2f', square=True)\n",
    "  plt.title(\"Confusion matrix\")\n",
    "  plt.ylabel(\"True label\")\n",
    "  plt.xlabel(\"Predicted label\")\n",
    "\n",
    "confusion_matrix = model.confusion_matrix(test_data)\n",
    "show_confusion_matrix(confusion_matrix.numpy(), test_data.index_to_label)"
   ]
  },
  {
   "cell_type": "code",
   "execution_count": null,
   "metadata": {
    "execution": {
     "iopub.execute_input": "2021-05-17T21:11:20.443528Z",
     "iopub.status.busy": "2021-05-17T21:11:20.442923Z",
     "iopub.status.idle": "2021-05-17T21:11:24.332337Z",
     "shell.execute_reply": "2021-05-17T21:11:24.331750Z"
    },
    "id": "PmlmTl42Bq_u"
   },
   "outputs": [],
   "source": [
    "serving_model = model.create_serving_model()\n",
    "\n",
    "print(f'Model\\'s input shape and type: {serving_model.inputs}')\n",
    "print(f'Model\\'s output shape and type: {serving_model.outputs}')"
   ]
  },
  {
   "cell_type": "code",
   "execution_count": null,
   "metadata": {
    "execution": {
     "iopub.execute_input": "2021-05-17T21:11:24.336290Z",
     "iopub.status.busy": "2021-05-17T21:11:24.335708Z",
     "iopub.status.idle": "2021-05-17T21:11:24.707375Z",
     "shell.execute_reply": "2021-05-17T21:11:24.707726Z"
    },
    "id": "8dv5ViK0reXc"
   },
   "outputs": [],
   "source": [
    "# if you want to try another file just uncoment the line below\n",
    "random_audio = get_random_audio_file()\n",
    "show_sound_data(random_audio)"
   ]
  },
  {
   "cell_type": "code",
   "execution_count": null,
   "metadata": {
    "execution": {
     "iopub.execute_input": "2021-05-17T21:11:24.712623Z",
     "iopub.status.busy": "2021-05-17T21:11:24.711927Z",
     "iopub.status.idle": "2021-05-17T21:11:24.721363Z",
     "shell.execute_reply": "2021-05-17T21:11:24.721711Z"
    },
    "id": "YAvGKQL0lNty"
   },
   "outputs": [],
   "source": [
    "sample_rate, audio_data = wavfile.read(random_audio, 'rb')\n",
    "\n",
    "audio_data = np.array(audio_data) / tf.int16.max\n",
    "input_size = serving_model.input_shape[1]\n",
    "\n",
    "splitted_audio_data = tf.signal.frame(audio_data, input_size, input_size, pad_end=True, pad_value=0)\n",
    "\n",
    "print(f'Test audio path: {random_audio}')\n",
    "print(f'Original size of the audio data: {len(audio_data)}')\n",
    "print(f'Number of windows for inference: {len(splitted_audio_data)}')"
   ]
  },
  {
   "cell_type": "code",
   "execution_count": null,
   "metadata": {
    "execution": {
     "iopub.execute_input": "2021-05-17T21:11:24.727577Z",
     "iopub.status.busy": "2021-05-17T21:11:24.726992Z",
     "iopub.status.idle": "2021-05-17T21:11:32.643458Z",
     "shell.execute_reply": "2021-05-17T21:11:32.642961Z"
    },
    "id": "4-8fJLrxGwYT"
   },
   "outputs": [],
   "source": [
    "print(random_audio)\n",
    "\n",
    "results = []\n",
    "print('Result of the window ith:  your model class -> score,  (spec class -> score)')\n",
    "for i, data in enumerate(splitted_audio_data):\n",
    "  yamnet_output, inference = serving_model(data)\n",
    "  results.append(inference[0].numpy())\n",
    "  result_index = tf.argmax(inference[0])\n",
    "  spec_result_index = tf.argmax(yamnet_output[0])\n",
    "  t = spec._yamnet_labels()[spec_result_index]\n",
    "  result_str = f'Result of the window {i}: ' \\\n",
    "  f'\\t{test_data.index_to_label[result_index]} -> {inference[0][result_index].numpy():.3f}, ' \\\n",
    "  f'\\t({spec._yamnet_labels()[spec_result_index]} -> {yamnet_output[0][spec_result_index]:.3f})'\n",
    "  print(result_str)\n",
    "\n",
    "\n",
    "results_np = np.array(results)\n",
    "mean_results = results_np.mean(axis=0)\n",
    "result_index = mean_results.argmax()\n",
    "print(f'Mean result: {test_data.index_to_label[result_index]} -> {mean_results[result_index]}')"
   ]
  },
  {
   "cell_type": "code",
   "execution_count": null,
   "metadata": {
    "execution": {
     "iopub.execute_input": "2021-05-17T21:11:32.647634Z",
     "iopub.status.busy": "2021-05-17T21:11:32.647047Z",
     "iopub.status.idle": "2021-05-17T21:11:43.475952Z",
     "shell.execute_reply": "2021-05-17T21:11:43.474649Z"
    },
    "id": "Xw_ehPxAdQlz"
   },
   "outputs": [],
   "source": [
    "models_path = './heart_sound_models'\n",
    "print(f'Exporing the TFLite model to {models_path}')\n",
    "\n",
    "model.export(models_path, tflite_filename='my_heart_sound_model.tflite')"
   ]
  },
  {
   "cell_type": "code",
   "execution_count": null,
   "metadata": {
    "execution": {
     "iopub.execute_input": "2021-05-17T21:11:43.485815Z",
     "iopub.status.busy": "2021-05-17T21:11:43.484600Z",
     "iopub.status.idle": "2021-05-17T21:11:52.656803Z",
     "shell.execute_reply": "2021-05-17T21:11:52.656326Z"
    },
    "id": "veBwppOsA-kn"
   },
   "outputs": [],
   "source": [
    "model.export(models_path, export_format=[mm.ExportFormat.SAVED_MODEL, mm.ExportFormat.LABEL])"
   ]
  }
 ],
 "metadata": {
  "accelerator": "GPU",
  "colab": {
   "collapsed_sections": [],
   "name": "model_maker_audio_classification.ipynb",
   "private_outputs": true,
   "provenance": [],
   "toc_visible": true
  },
  "kernelspec": {
   "display_name": "Python 3",
   "language": "python",
   "name": "python3"
  },
  "language_info": {
   "codemirror_mode": {
    "name": "ipython",
    "version": 3
   },
   "file_extension": ".py",
   "mimetype": "text/x-python",
   "name": "python",
   "nbconvert_exporter": "python",
   "pygments_lexer": "ipython3",
   "version": "3.6.9"
  }
 },
 "nbformat": 4,
 "nbformat_minor": 1
}